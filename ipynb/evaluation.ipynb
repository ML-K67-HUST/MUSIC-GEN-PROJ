{
 "cells": [
  {
   "cell_type": "code",
   "execution_count": 1,
   "metadata": {},
   "outputs": [
    {
     "name": "stderr",
     "output_type": "stream",
     "text": [
      "2024-05-27 23:03:53.883204: I tensorflow/core/util/port.cc:113] oneDNN custom operations are on. You may see slightly different numerical results due to floating-point round-off errors from different computation orders. To turn them off, set the environment variable `TF_ENABLE_ONEDNN_OPTS=0`.\n",
      "2024-05-27 23:03:53.942951: I tensorflow/core/platform/cpu_feature_guard.cc:210] This TensorFlow binary is optimized to use available CPU instructions in performance-critical operations.\n",
      "To enable the following instructions: AVX2 AVX512F AVX512_VNNI FMA, in other operations, rebuild TensorFlow with the appropriate compiler flags.\n",
      "2024-05-27 23:03:55.261615: W tensorflow/compiler/tf2tensorrt/utils/py_utils.cc:38] TF-TRT Warning: Could not find TensorRT\n"
     ]
    }
   ],
   "source": [
    "import pandas as pd\n",
    "import numpy as np \n",
    "import os\n",
    "import pickle\n",
    "from keras.models import load_model\n",
    "from sklearn.preprocessing import MinMaxScaler\n",
    "df = pd.read_csv('/home/khangpt/MUSIC-GEN-PROJ/music_crawler/Dataset.csv')\n",
    "def preprocess_(df):\n",
    "    X = df.drop(['label'], axis = 1)\n",
    "    y = df['label']\n",
    "\n",
    "    df.label = pd.Categorical(df.label)\n",
    "    y = np.array(df.label.cat.codes)\n",
    "    scaler = MinMaxScaler()\n",
    "    X = scaler.fit_transform(X)\n",
    "    return X, y\n",
    "X, y = preprocess_(df)\n",
    "# with open('../saved_model/stack_model.pkl', 'rb') as file:\n",
    "#     stack = pickle.load(file)\n",
    "with open('../saved_model/knn_model.pkl', 'rb') as file:\n",
    "    knn = pickle.load(file)\n",
    "with open('../saved_model/svm_model.pkl', 'rb') as file:\n",
    "    svm= pickle.load(file)\n",
    "with open('../saved_model/stack_model.pkl','rb') as file:\n",
    "    stack = pickle.load(file)\n",
    "nn = load_model('../saved_model/nn_model.keras')"
   ]
  },
  {
   "cell_type": "code",
   "execution_count": 2,
   "metadata": {},
   "outputs": [],
   "source": [
    "from sklearn.model_selection import train_test_split\n",
    "X_train_prev, X_test_prev, y_train_prev, y_test_prev = train_test_split(X, y, test_size=0.2, random_state=42)"
   ]
  },
  {
   "cell_type": "code",
   "execution_count": 3,
   "metadata": {},
   "outputs": [],
   "source": [
    "from sklearn.model_selection import train_test_split\n",
    "X_train_after, X_test_after, y_train_after, y_test_after = train_test_split(X, y, test_size=0.2,stratify=y, random_state=42)\n"
   ]
  },
  {
   "cell_type": "code",
   "execution_count": 4,
   "metadata": {},
   "outputs": [],
   "source": [
    "from sklearn.metrics import accuracy_score\n",
    "from sklearn.metrics import classification_report"
   ]
  },
  {
   "cell_type": "code",
   "execution_count": 5,
   "metadata": {},
   "outputs": [
    {
     "name": "stdout",
     "output_type": "stream",
     "text": [
      "0.9686521338655204\n"
     ]
    }
   ],
   "source": [
    "print(accuracy_score(knn.predict(X),y))"
   ]
  },
  {
   "cell_type": "code",
   "execution_count": 6,
   "metadata": {},
   "outputs": [
    {
     "name": "stdout",
     "output_type": "stream",
     "text": [
      "0.7779244703715075\n"
     ]
    }
   ],
   "source": [
    "print(accuracy_score(svm.predict(X),y))"
   ]
  },
  {
   "cell_type": "code",
   "execution_count": 7,
   "metadata": {},
   "outputs": [
    {
     "name": "stdout",
     "output_type": "stream",
     "text": [
      "\u001b[1m1018/1018\u001b[0m \u001b[32m━━━━━━━━━━━━━━━━━━━━\u001b[0m\u001b[37m\u001b[0m \u001b[1m1s\u001b[0m 1ms/step\n",
      "0.8556647221369358\n"
     ]
    }
   ],
   "source": [
    "print(accuracy_score(nn.predict(X).argmax(axis=-1),y))"
   ]
  },
  {
   "cell_type": "code",
   "execution_count": 8,
   "metadata": {},
   "outputs": [
    {
     "name": "stdout",
     "output_type": "stream",
     "text": [
      "0.9657353392692662\n"
     ]
    }
   ],
   "source": [
    "print(accuracy_score(stack.predict(X),y))"
   ]
  }
 ],
 "metadata": {
  "kernelspec": {
   "display_name": "base",
   "language": "python",
   "name": "python3"
  },
  "language_info": {
   "codemirror_mode": {
    "name": "ipython",
    "version": 3
   },
   "file_extension": ".py",
   "mimetype": "text/x-python",
   "name": "python",
   "nbconvert_exporter": "python",
   "pygments_lexer": "ipython3",
   "version": "3.11.7"
  }
 },
 "nbformat": 4,
 "nbformat_minor": 2
}
