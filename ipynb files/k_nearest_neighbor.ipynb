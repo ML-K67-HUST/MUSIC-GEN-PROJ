{
  "cells": [
    {
      "cell_type": "code",
      "execution_count": 7,
      "metadata": {
        "id": "egZRNwjdXgwC"
      },
      "outputs": [],
      "source": [
        "import pandas as pd\n",
        "import numpy as np\n",
        "import matplotlib.pyplot as plt\n"
      ]
    },
    {
      "cell_type": "code",
      "execution_count": 8,
      "metadata": {
        "colab": {
          "base_uri": "https://localhost:8080/",
          "height": 225
        },
        "id": "bBOjgwcxXi1w",
        "outputId": "77d9a950-4060-427b-c04a-ce55d09b77a7"
      },
      "outputs": [
        {
          "data": {
            "text/html": [
              "<div>\n",
              "<style scoped>\n",
              "    .dataframe tbody tr th:only-of-type {\n",
              "        vertical-align: middle;\n",
              "    }\n",
              "\n",
              "    .dataframe tbody tr th {\n",
              "        vertical-align: top;\n",
              "    }\n",
              "\n",
              "    .dataframe thead th {\n",
              "        text-align: right;\n",
              "    }\n",
              "</style>\n",
              "<table border=\"1\" class=\"dataframe\">\n",
              "  <thead>\n",
              "    <tr style=\"text-align: right;\">\n",
              "      <th></th>\n",
              "      <th>filename</th>\n",
              "      <th>length</th>\n",
              "      <th>chroma_stft_mean</th>\n",
              "      <th>chroma_stft_var</th>\n",
              "      <th>rms_mean</th>\n",
              "      <th>rms_var</th>\n",
              "      <th>spectral_centroid_mean</th>\n",
              "      <th>spectral_centroid_var</th>\n",
              "      <th>spectral_bandwidth_mean</th>\n",
              "      <th>spectral_bandwidth_var</th>\n",
              "      <th>...</th>\n",
              "      <th>mfcc16_var</th>\n",
              "      <th>mfcc17_mean</th>\n",
              "      <th>mfcc17_var</th>\n",
              "      <th>mfcc18_mean</th>\n",
              "      <th>mfcc18_var</th>\n",
              "      <th>mfcc19_mean</th>\n",
              "      <th>mfcc19_var</th>\n",
              "      <th>mfcc20_mean</th>\n",
              "      <th>mfcc20_var</th>\n",
              "      <th>label</th>\n",
              "    </tr>\n",
              "  </thead>\n",
              "  <tbody>\n",
              "    <tr>\n",
              "      <th>0</th>\n",
              "      <td>blues.00000.wav</td>\n",
              "      <td>661794</td>\n",
              "      <td>0.350088</td>\n",
              "      <td>0.088757</td>\n",
              "      <td>0.130228</td>\n",
              "      <td>0.002827</td>\n",
              "      <td>1784.165850</td>\n",
              "      <td>129774.064525</td>\n",
              "      <td>2002.449060</td>\n",
              "      <td>85882.761315</td>\n",
              "      <td>...</td>\n",
              "      <td>52.420910</td>\n",
              "      <td>-1.690215</td>\n",
              "      <td>36.524071</td>\n",
              "      <td>-0.408979</td>\n",
              "      <td>41.597103</td>\n",
              "      <td>-2.303523</td>\n",
              "      <td>55.062923</td>\n",
              "      <td>1.221291</td>\n",
              "      <td>46.936035</td>\n",
              "      <td>blues</td>\n",
              "    </tr>\n",
              "    <tr>\n",
              "      <th>1</th>\n",
              "      <td>blues.00001.wav</td>\n",
              "      <td>661794</td>\n",
              "      <td>0.340914</td>\n",
              "      <td>0.094980</td>\n",
              "      <td>0.095948</td>\n",
              "      <td>0.002373</td>\n",
              "      <td>1530.176679</td>\n",
              "      <td>375850.073649</td>\n",
              "      <td>2039.036516</td>\n",
              "      <td>213843.755497</td>\n",
              "      <td>...</td>\n",
              "      <td>55.356403</td>\n",
              "      <td>-0.731125</td>\n",
              "      <td>60.314529</td>\n",
              "      <td>0.295073</td>\n",
              "      <td>48.120598</td>\n",
              "      <td>-0.283518</td>\n",
              "      <td>51.106190</td>\n",
              "      <td>0.531217</td>\n",
              "      <td>45.786282</td>\n",
              "      <td>blues</td>\n",
              "    </tr>\n",
              "    <tr>\n",
              "      <th>2</th>\n",
              "      <td>blues.00002.wav</td>\n",
              "      <td>661794</td>\n",
              "      <td>0.363637</td>\n",
              "      <td>0.085275</td>\n",
              "      <td>0.175570</td>\n",
              "      <td>0.002746</td>\n",
              "      <td>1552.811865</td>\n",
              "      <td>156467.643368</td>\n",
              "      <td>1747.702312</td>\n",
              "      <td>76254.192257</td>\n",
              "      <td>...</td>\n",
              "      <td>40.598766</td>\n",
              "      <td>-7.729093</td>\n",
              "      <td>47.639427</td>\n",
              "      <td>-1.816407</td>\n",
              "      <td>52.382141</td>\n",
              "      <td>-3.439720</td>\n",
              "      <td>46.639660</td>\n",
              "      <td>-2.231258</td>\n",
              "      <td>30.573025</td>\n",
              "      <td>blues</td>\n",
              "    </tr>\n",
              "    <tr>\n",
              "      <th>3</th>\n",
              "      <td>blues.00003.wav</td>\n",
              "      <td>661794</td>\n",
              "      <td>0.404785</td>\n",
              "      <td>0.093999</td>\n",
              "      <td>0.141093</td>\n",
              "      <td>0.006346</td>\n",
              "      <td>1070.106615</td>\n",
              "      <td>184355.942417</td>\n",
              "      <td>1596.412872</td>\n",
              "      <td>166441.494769</td>\n",
              "      <td>...</td>\n",
              "      <td>44.427753</td>\n",
              "      <td>-3.319597</td>\n",
              "      <td>50.206673</td>\n",
              "      <td>0.636965</td>\n",
              "      <td>37.319130</td>\n",
              "      <td>-0.619121</td>\n",
              "      <td>37.259739</td>\n",
              "      <td>-3.407448</td>\n",
              "      <td>31.949339</td>\n",
              "      <td>blues</td>\n",
              "    </tr>\n",
              "    <tr>\n",
              "      <th>4</th>\n",
              "      <td>blues.00004.wav</td>\n",
              "      <td>661794</td>\n",
              "      <td>0.308526</td>\n",
              "      <td>0.087841</td>\n",
              "      <td>0.091529</td>\n",
              "      <td>0.002303</td>\n",
              "      <td>1835.004266</td>\n",
              "      <td>343399.939274</td>\n",
              "      <td>1748.172116</td>\n",
              "      <td>88445.209036</td>\n",
              "      <td>...</td>\n",
              "      <td>86.099236</td>\n",
              "      <td>-5.454034</td>\n",
              "      <td>75.269707</td>\n",
              "      <td>-0.916874</td>\n",
              "      <td>53.613918</td>\n",
              "      <td>-4.404827</td>\n",
              "      <td>62.910812</td>\n",
              "      <td>-11.703234</td>\n",
              "      <td>55.195160</td>\n",
              "      <td>blues</td>\n",
              "    </tr>\n",
              "    <tr>\n",
              "      <th>...</th>\n",
              "      <td>...</td>\n",
              "      <td>...</td>\n",
              "      <td>...</td>\n",
              "      <td>...</td>\n",
              "      <td>...</td>\n",
              "      <td>...</td>\n",
              "      <td>...</td>\n",
              "      <td>...</td>\n",
              "      <td>...</td>\n",
              "      <td>...</td>\n",
              "      <td>...</td>\n",
              "      <td>...</td>\n",
              "      <td>...</td>\n",
              "      <td>...</td>\n",
              "      <td>...</td>\n",
              "      <td>...</td>\n",
              "      <td>...</td>\n",
              "      <td>...</td>\n",
              "      <td>...</td>\n",
              "      <td>...</td>\n",
              "      <td>...</td>\n",
              "    </tr>\n",
              "    <tr>\n",
              "      <th>995</th>\n",
              "      <td>rock.00095.wav</td>\n",
              "      <td>661794</td>\n",
              "      <td>0.352063</td>\n",
              "      <td>0.080487</td>\n",
              "      <td>0.079486</td>\n",
              "      <td>0.000345</td>\n",
              "      <td>2008.149458</td>\n",
              "      <td>282174.689224</td>\n",
              "      <td>2106.541053</td>\n",
              "      <td>88609.749506</td>\n",
              "      <td>...</td>\n",
              "      <td>45.050526</td>\n",
              "      <td>-13.289984</td>\n",
              "      <td>41.754955</td>\n",
              "      <td>2.484145</td>\n",
              "      <td>36.778877</td>\n",
              "      <td>-6.713265</td>\n",
              "      <td>54.866825</td>\n",
              "      <td>-1.193787</td>\n",
              "      <td>49.950665</td>\n",
              "      <td>rock</td>\n",
              "    </tr>\n",
              "    <tr>\n",
              "      <th>996</th>\n",
              "      <td>rock.00096.wav</td>\n",
              "      <td>661794</td>\n",
              "      <td>0.398687</td>\n",
              "      <td>0.075086</td>\n",
              "      <td>0.076458</td>\n",
              "      <td>0.000588</td>\n",
              "      <td>2006.843354</td>\n",
              "      <td>182114.709510</td>\n",
              "      <td>2068.942009</td>\n",
              "      <td>82426.016726</td>\n",
              "      <td>...</td>\n",
              "      <td>33.851742</td>\n",
              "      <td>-10.848309</td>\n",
              "      <td>39.395096</td>\n",
              "      <td>1.881229</td>\n",
              "      <td>32.010040</td>\n",
              "      <td>-7.461491</td>\n",
              "      <td>39.196327</td>\n",
              "      <td>-2.795338</td>\n",
              "      <td>31.773624</td>\n",
              "      <td>rock</td>\n",
              "    </tr>\n",
              "    <tr>\n",
              "      <th>997</th>\n",
              "      <td>rock.00097.wav</td>\n",
              "      <td>661794</td>\n",
              "      <td>0.432142</td>\n",
              "      <td>0.075268</td>\n",
              "      <td>0.081651</td>\n",
              "      <td>0.000322</td>\n",
              "      <td>2077.526598</td>\n",
              "      <td>231657.968040</td>\n",
              "      <td>1927.293153</td>\n",
              "      <td>74717.124394</td>\n",
              "      <td>...</td>\n",
              "      <td>33.597008</td>\n",
              "      <td>-12.845291</td>\n",
              "      <td>36.367264</td>\n",
              "      <td>3.440978</td>\n",
              "      <td>36.001110</td>\n",
              "      <td>-12.588070</td>\n",
              "      <td>42.502201</td>\n",
              "      <td>-2.106337</td>\n",
              "      <td>29.865515</td>\n",
              "      <td>rock</td>\n",
              "    </tr>\n",
              "    <tr>\n",
              "      <th>998</th>\n",
              "      <td>rock.00098.wav</td>\n",
              "      <td>661794</td>\n",
              "      <td>0.362485</td>\n",
              "      <td>0.091506</td>\n",
              "      <td>0.083860</td>\n",
              "      <td>0.001211</td>\n",
              "      <td>1398.699344</td>\n",
              "      <td>240318.731073</td>\n",
              "      <td>1818.450280</td>\n",
              "      <td>109090.207161</td>\n",
              "      <td>...</td>\n",
              "      <td>46.324894</td>\n",
              "      <td>-4.416050</td>\n",
              "      <td>43.583942</td>\n",
              "      <td>1.556207</td>\n",
              "      <td>34.331261</td>\n",
              "      <td>-5.041897</td>\n",
              "      <td>47.227180</td>\n",
              "      <td>-3.590644</td>\n",
              "      <td>41.299088</td>\n",
              "      <td>rock</td>\n",
              "    </tr>\n",
              "    <tr>\n",
              "      <th>999</th>\n",
              "      <td>rock.00099.wav</td>\n",
              "      <td>661794</td>\n",
              "      <td>0.358401</td>\n",
              "      <td>0.085884</td>\n",
              "      <td>0.054454</td>\n",
              "      <td>0.000336</td>\n",
              "      <td>1609.795082</td>\n",
              "      <td>422203.216152</td>\n",
              "      <td>1797.213044</td>\n",
              "      <td>120115.632927</td>\n",
              "      <td>...</td>\n",
              "      <td>59.167755</td>\n",
              "      <td>-7.069775</td>\n",
              "      <td>73.760391</td>\n",
              "      <td>0.028346</td>\n",
              "      <td>76.504326</td>\n",
              "      <td>-2.025783</td>\n",
              "      <td>72.189316</td>\n",
              "      <td>1.155239</td>\n",
              "      <td>49.662510</td>\n",
              "      <td>rock</td>\n",
              "    </tr>\n",
              "  </tbody>\n",
              "</table>\n",
              "<p>1000 rows × 60 columns</p>\n",
              "</div>"
            ],
            "text/plain": [
              "            filename  length  chroma_stft_mean  chroma_stft_var  rms_mean  \\\n",
              "0    blues.00000.wav  661794          0.350088         0.088757  0.130228   \n",
              "1    blues.00001.wav  661794          0.340914         0.094980  0.095948   \n",
              "2    blues.00002.wav  661794          0.363637         0.085275  0.175570   \n",
              "3    blues.00003.wav  661794          0.404785         0.093999  0.141093   \n",
              "4    blues.00004.wav  661794          0.308526         0.087841  0.091529   \n",
              "..               ...     ...               ...              ...       ...   \n",
              "995   rock.00095.wav  661794          0.352063         0.080487  0.079486   \n",
              "996   rock.00096.wav  661794          0.398687         0.075086  0.076458   \n",
              "997   rock.00097.wav  661794          0.432142         0.075268  0.081651   \n",
              "998   rock.00098.wav  661794          0.362485         0.091506  0.083860   \n",
              "999   rock.00099.wav  661794          0.358401         0.085884  0.054454   \n",
              "\n",
              "      rms_var  spectral_centroid_mean  spectral_centroid_var  \\\n",
              "0    0.002827             1784.165850          129774.064525   \n",
              "1    0.002373             1530.176679          375850.073649   \n",
              "2    0.002746             1552.811865          156467.643368   \n",
              "3    0.006346             1070.106615          184355.942417   \n",
              "4    0.002303             1835.004266          343399.939274   \n",
              "..        ...                     ...                    ...   \n",
              "995  0.000345             2008.149458          282174.689224   \n",
              "996  0.000588             2006.843354          182114.709510   \n",
              "997  0.000322             2077.526598          231657.968040   \n",
              "998  0.001211             1398.699344          240318.731073   \n",
              "999  0.000336             1609.795082          422203.216152   \n",
              "\n",
              "     spectral_bandwidth_mean  spectral_bandwidth_var  ...  mfcc16_var  \\\n",
              "0                2002.449060            85882.761315  ...   52.420910   \n",
              "1                2039.036516           213843.755497  ...   55.356403   \n",
              "2                1747.702312            76254.192257  ...   40.598766   \n",
              "3                1596.412872           166441.494769  ...   44.427753   \n",
              "4                1748.172116            88445.209036  ...   86.099236   \n",
              "..                       ...                     ...  ...         ...   \n",
              "995              2106.541053            88609.749506  ...   45.050526   \n",
              "996              2068.942009            82426.016726  ...   33.851742   \n",
              "997              1927.293153            74717.124394  ...   33.597008   \n",
              "998              1818.450280           109090.207161  ...   46.324894   \n",
              "999              1797.213044           120115.632927  ...   59.167755   \n",
              "\n",
              "     mfcc17_mean  mfcc17_var  mfcc18_mean  mfcc18_var  mfcc19_mean  \\\n",
              "0      -1.690215   36.524071    -0.408979   41.597103    -2.303523   \n",
              "1      -0.731125   60.314529     0.295073   48.120598    -0.283518   \n",
              "2      -7.729093   47.639427    -1.816407   52.382141    -3.439720   \n",
              "3      -3.319597   50.206673     0.636965   37.319130    -0.619121   \n",
              "4      -5.454034   75.269707    -0.916874   53.613918    -4.404827   \n",
              "..           ...         ...          ...         ...          ...   \n",
              "995   -13.289984   41.754955     2.484145   36.778877    -6.713265   \n",
              "996   -10.848309   39.395096     1.881229   32.010040    -7.461491   \n",
              "997   -12.845291   36.367264     3.440978   36.001110   -12.588070   \n",
              "998    -4.416050   43.583942     1.556207   34.331261    -5.041897   \n",
              "999    -7.069775   73.760391     0.028346   76.504326    -2.025783   \n",
              "\n",
              "     mfcc19_var  mfcc20_mean  mfcc20_var  label  \n",
              "0     55.062923     1.221291   46.936035  blues  \n",
              "1     51.106190     0.531217   45.786282  blues  \n",
              "2     46.639660    -2.231258   30.573025  blues  \n",
              "3     37.259739    -3.407448   31.949339  blues  \n",
              "4     62.910812   -11.703234   55.195160  blues  \n",
              "..          ...          ...         ...    ...  \n",
              "995   54.866825    -1.193787   49.950665   rock  \n",
              "996   39.196327    -2.795338   31.773624   rock  \n",
              "997   42.502201    -2.106337   29.865515   rock  \n",
              "998   47.227180    -3.590644   41.299088   rock  \n",
              "999   72.189316     1.155239   49.662510   rock  \n",
              "\n",
              "[1000 rows x 60 columns]"
            ]
          },
          "execution_count": 8,
          "metadata": {},
          "output_type": "execute_result"
        }
      ],
      "source": [
        "df = pd.read_csv('../GTZAN/Data/features_30_sec.csv')\n",
        "df"
      ]
    },
    {
      "cell_type": "code",
      "execution_count": 9,
      "metadata": {
        "colab": {
          "base_uri": "https://localhost:8080/",
          "height": 255
        },
        "id": "mDaI2_R68a0R",
        "outputId": "594e2788-a55f-4565-def0-18744832613c"
      },
      "outputs": [
        {
          "data": {
            "text/html": [
              "<div>\n",
              "<style scoped>\n",
              "    .dataframe tbody tr th:only-of-type {\n",
              "        vertical-align: middle;\n",
              "    }\n",
              "\n",
              "    .dataframe tbody tr th {\n",
              "        vertical-align: top;\n",
              "    }\n",
              "\n",
              "    .dataframe thead th {\n",
              "        text-align: right;\n",
              "    }\n",
              "</style>\n",
              "<table border=\"1\" class=\"dataframe\">\n",
              "  <thead>\n",
              "    <tr style=\"text-align: right;\">\n",
              "      <th></th>\n",
              "      <th>length</th>\n",
              "      <th>chroma_stft_mean</th>\n",
              "      <th>chroma_stft_var</th>\n",
              "      <th>rms_mean</th>\n",
              "      <th>rms_var</th>\n",
              "      <th>spectral_centroid_mean</th>\n",
              "      <th>spectral_centroid_var</th>\n",
              "      <th>spectral_bandwidth_mean</th>\n",
              "      <th>spectral_bandwidth_var</th>\n",
              "      <th>rolloff_mean</th>\n",
              "      <th>...</th>\n",
              "      <th>mfcc16_mean</th>\n",
              "      <th>mfcc16_var</th>\n",
              "      <th>mfcc17_mean</th>\n",
              "      <th>mfcc17_var</th>\n",
              "      <th>mfcc18_mean</th>\n",
              "      <th>mfcc18_var</th>\n",
              "      <th>mfcc19_mean</th>\n",
              "      <th>mfcc19_var</th>\n",
              "      <th>mfcc20_mean</th>\n",
              "      <th>mfcc20_var</th>\n",
              "    </tr>\n",
              "  </thead>\n",
              "  <tbody>\n",
              "    <tr>\n",
              "      <th>0</th>\n",
              "      <td>661794</td>\n",
              "      <td>0.350088</td>\n",
              "      <td>0.088757</td>\n",
              "      <td>0.130228</td>\n",
              "      <td>0.002827</td>\n",
              "      <td>1784.165850</td>\n",
              "      <td>129774.064525</td>\n",
              "      <td>2002.449060</td>\n",
              "      <td>85882.761315</td>\n",
              "      <td>3805.839606</td>\n",
              "      <td>...</td>\n",
              "      <td>0.752740</td>\n",
              "      <td>52.420910</td>\n",
              "      <td>-1.690215</td>\n",
              "      <td>36.524071</td>\n",
              "      <td>-0.408979</td>\n",
              "      <td>41.597103</td>\n",
              "      <td>-2.303523</td>\n",
              "      <td>55.062923</td>\n",
              "      <td>1.221291</td>\n",
              "      <td>46.936035</td>\n",
              "    </tr>\n",
              "    <tr>\n",
              "      <th>1</th>\n",
              "      <td>661794</td>\n",
              "      <td>0.340914</td>\n",
              "      <td>0.094980</td>\n",
              "      <td>0.095948</td>\n",
              "      <td>0.002373</td>\n",
              "      <td>1530.176679</td>\n",
              "      <td>375850.073649</td>\n",
              "      <td>2039.036516</td>\n",
              "      <td>213843.755497</td>\n",
              "      <td>3550.522098</td>\n",
              "      <td>...</td>\n",
              "      <td>0.927998</td>\n",
              "      <td>55.356403</td>\n",
              "      <td>-0.731125</td>\n",
              "      <td>60.314529</td>\n",
              "      <td>0.295073</td>\n",
              "      <td>48.120598</td>\n",
              "      <td>-0.283518</td>\n",
              "      <td>51.106190</td>\n",
              "      <td>0.531217</td>\n",
              "      <td>45.786282</td>\n",
              "    </tr>\n",
              "    <tr>\n",
              "      <th>2</th>\n",
              "      <td>661794</td>\n",
              "      <td>0.363637</td>\n",
              "      <td>0.085275</td>\n",
              "      <td>0.175570</td>\n",
              "      <td>0.002746</td>\n",
              "      <td>1552.811865</td>\n",
              "      <td>156467.643368</td>\n",
              "      <td>1747.702312</td>\n",
              "      <td>76254.192257</td>\n",
              "      <td>3042.260232</td>\n",
              "      <td>...</td>\n",
              "      <td>2.451690</td>\n",
              "      <td>40.598766</td>\n",
              "      <td>-7.729093</td>\n",
              "      <td>47.639427</td>\n",
              "      <td>-1.816407</td>\n",
              "      <td>52.382141</td>\n",
              "      <td>-3.439720</td>\n",
              "      <td>46.639660</td>\n",
              "      <td>-2.231258</td>\n",
              "      <td>30.573025</td>\n",
              "    </tr>\n",
              "    <tr>\n",
              "      <th>3</th>\n",
              "      <td>661794</td>\n",
              "      <td>0.404785</td>\n",
              "      <td>0.093999</td>\n",
              "      <td>0.141093</td>\n",
              "      <td>0.006346</td>\n",
              "      <td>1070.106615</td>\n",
              "      <td>184355.942417</td>\n",
              "      <td>1596.412872</td>\n",
              "      <td>166441.494769</td>\n",
              "      <td>2184.745799</td>\n",
              "      <td>...</td>\n",
              "      <td>0.780874</td>\n",
              "      <td>44.427753</td>\n",
              "      <td>-3.319597</td>\n",
              "      <td>50.206673</td>\n",
              "      <td>0.636965</td>\n",
              "      <td>37.319130</td>\n",
              "      <td>-0.619121</td>\n",
              "      <td>37.259739</td>\n",
              "      <td>-3.407448</td>\n",
              "      <td>31.949339</td>\n",
              "    </tr>\n",
              "    <tr>\n",
              "      <th>4</th>\n",
              "      <td>661794</td>\n",
              "      <td>0.308526</td>\n",
              "      <td>0.087841</td>\n",
              "      <td>0.091529</td>\n",
              "      <td>0.002303</td>\n",
              "      <td>1835.004266</td>\n",
              "      <td>343399.939274</td>\n",
              "      <td>1748.172116</td>\n",
              "      <td>88445.209036</td>\n",
              "      <td>3579.757627</td>\n",
              "      <td>...</td>\n",
              "      <td>-4.520576</td>\n",
              "      <td>86.099236</td>\n",
              "      <td>-5.454034</td>\n",
              "      <td>75.269707</td>\n",
              "      <td>-0.916874</td>\n",
              "      <td>53.613918</td>\n",
              "      <td>-4.404827</td>\n",
              "      <td>62.910812</td>\n",
              "      <td>-11.703234</td>\n",
              "      <td>55.195160</td>\n",
              "    </tr>\n",
              "  </tbody>\n",
              "</table>\n",
              "<p>5 rows × 58 columns</p>\n",
              "</div>"
            ],
            "text/plain": [
              "   length  chroma_stft_mean  chroma_stft_var  rms_mean   rms_var  \\\n",
              "0  661794          0.350088         0.088757  0.130228  0.002827   \n",
              "1  661794          0.340914         0.094980  0.095948  0.002373   \n",
              "2  661794          0.363637         0.085275  0.175570  0.002746   \n",
              "3  661794          0.404785         0.093999  0.141093  0.006346   \n",
              "4  661794          0.308526         0.087841  0.091529  0.002303   \n",
              "\n",
              "   spectral_centroid_mean  spectral_centroid_var  spectral_bandwidth_mean  \\\n",
              "0             1784.165850          129774.064525              2002.449060   \n",
              "1             1530.176679          375850.073649              2039.036516   \n",
              "2             1552.811865          156467.643368              1747.702312   \n",
              "3             1070.106615          184355.942417              1596.412872   \n",
              "4             1835.004266          343399.939274              1748.172116   \n",
              "\n",
              "   spectral_bandwidth_var  rolloff_mean  ...  mfcc16_mean  mfcc16_var  \\\n",
              "0            85882.761315   3805.839606  ...     0.752740   52.420910   \n",
              "1           213843.755497   3550.522098  ...     0.927998   55.356403   \n",
              "2            76254.192257   3042.260232  ...     2.451690   40.598766   \n",
              "3           166441.494769   2184.745799  ...     0.780874   44.427753   \n",
              "4            88445.209036   3579.757627  ...    -4.520576   86.099236   \n",
              "\n",
              "   mfcc17_mean  mfcc17_var  mfcc18_mean  mfcc18_var  mfcc19_mean  mfcc19_var  \\\n",
              "0    -1.690215   36.524071    -0.408979   41.597103    -2.303523   55.062923   \n",
              "1    -0.731125   60.314529     0.295073   48.120598    -0.283518   51.106190   \n",
              "2    -7.729093   47.639427    -1.816407   52.382141    -3.439720   46.639660   \n",
              "3    -3.319597   50.206673     0.636965   37.319130    -0.619121   37.259739   \n",
              "4    -5.454034   75.269707    -0.916874   53.613918    -4.404827   62.910812   \n",
              "\n",
              "   mfcc20_mean  mfcc20_var  \n",
              "0     1.221291   46.936035  \n",
              "1     0.531217   45.786282  \n",
              "2    -2.231258   30.573025  \n",
              "3    -3.407448   31.949339  \n",
              "4   -11.703234   55.195160  \n",
              "\n",
              "[5 rows x 58 columns]"
            ]
          },
          "execution_count": 9,
          "metadata": {},
          "output_type": "execute_result"
        }
      ],
      "source": [
        "x = df.drop(['filename','label'], axis = 1)\n",
        "x.head()"
      ]
    },
    {
      "cell_type": "code",
      "execution_count": 10,
      "metadata": {
        "colab": {
          "base_uri": "https://localhost:8080/"
        },
        "id": "U0x5xlwy-BsY",
        "outputId": "f70b8e77-06de-4504-de67-b223991b967f"
      },
      "outputs": [
        {
          "data": {
            "text/plain": [
              "0      blues\n",
              "1      blues\n",
              "2      blues\n",
              "3      blues\n",
              "4      blues\n",
              "       ...  \n",
              "995     rock\n",
              "996     rock\n",
              "997     rock\n",
              "998     rock\n",
              "999     rock\n",
              "Name: label, Length: 1000, dtype: object"
            ]
          },
          "execution_count": 10,
          "metadata": {},
          "output_type": "execute_result"
        }
      ],
      "source": [
        "y = df['label']\n",
        "y"
      ]
    },
    {
      "cell_type": "code",
      "execution_count": 11,
      "metadata": {
        "id": "nyla9j9M_jpH"
      },
      "outputs": [],
      "source": [
        "from sklearn.preprocessing import MinMaxScaler"
      ]
    },
    {
      "cell_type": "code",
      "execution_count": 12,
      "metadata": {
        "colab": {
          "base_uri": "https://localhost:8080/"
        },
        "id": "3Js6XRLk-G4O",
        "outputId": "7deac839-08e6-4414-9a0b-38ed190cb8e6"
      },
      "outputs": [
        {
          "data": {
            "text/plain": [
              "array([[0.11348684, 0.36227871, 0.69546819, ..., 0.10950252, 0.59918888,\n",
              "        0.07825493],\n",
              "       [0.11348684, 0.34362165, 0.79339231, ..., 0.09908114, 0.57963963,\n",
              "        0.07594669],\n",
              "       [0.11348684, 0.38983171, 0.6406919 , ..., 0.08731703, 0.50138091,\n",
              "        0.04540464],\n",
              "       ...,\n",
              "       [0.11348684, 0.52914126, 0.48324551, ..., 0.07641964, 0.50491985,\n",
              "        0.04398425],\n",
              "       [0.11348684, 0.3874878 , 0.73872059, ..., 0.08886446, 0.46287061,\n",
              "        0.06693823],\n",
              "       [0.11348684, 0.37918422, 0.65027238, ..., 0.15461063, 0.59731769,\n",
              "        0.08372859]])"
            ]
          },
          "execution_count": 12,
          "metadata": {},
          "output_type": "execute_result"
        }
      ],
      "source": [
        "scaler = MinMaxScaler()\n",
        "x = scaler.fit_transform(x)\n",
        "x"
      ]
    },
    {
      "cell_type": "code",
      "execution_count": 13,
      "metadata": {
        "id": "o1YtaiOC_muN"
      },
      "outputs": [],
      "source": [
        "from sklearn.preprocessing import LabelEncoder"
      ]
    },
    {
      "cell_type": "code",
      "execution_count": 14,
      "metadata": {
        "colab": {
          "base_uri": "https://localhost:8080/"
        },
        "id": "9ZG7COUF-jOO",
        "outputId": "9fde266f-950b-49e1-e54d-05e76e7f4a80"
      },
      "outputs": [
        {
          "data": {
            "text/plain": [
              "{0: 'blues',\n",
              " 1: 'classical',\n",
              " 2: 'country',\n",
              " 3: 'disco',\n",
              " 4: 'hiphop',\n",
              " 5: 'jazz',\n",
              " 6: 'metal',\n",
              " 7: 'pop',\n",
              " 8: 'reggae',\n",
              " 9: 'rock'}"
            ]
          },
          "execution_count": 14,
          "metadata": {},
          "output_type": "execute_result"
        }
      ],
      "source": [
        "label_encoder = LabelEncoder()\n",
        "label_encoder.fit(y)\n",
        "y_encoded = label_encoder.transform(y)\n",
        "label_mapping = dict(zip(label_encoder.transform(label_encoder.classes_), label_encoder.classes_))\n",
        "label_mapping"
      ]
    },
    {
      "cell_type": "code",
      "execution_count": 15,
      "metadata": {
        "id": "yMbSBtLJ_qlg"
      },
      "outputs": [],
      "source": [
        "from sklearn.model_selection import train_test_split"
      ]
    },
    {
      "cell_type": "code",
      "execution_count": 16,
      "metadata": {
        "id": "AngKpfHM_ro-"
      },
      "outputs": [],
      "source": [
        "x_train, x_test, y_train, y_test = train_test_split(x, y_encoded, test_size = 0.2, random_state = 42)"
      ]
    },
    {
      "cell_type": "code",
      "execution_count": 17,
      "metadata": {
        "id": "YQtSU3GfB-Je"
      },
      "outputs": [],
      "source": [
        "from sklearn.neighbors import KNeighborsClassifier"
      ]
    },
    {
      "cell_type": "code",
      "execution_count": 18,
      "metadata": {
        "id": "TdEArn_8COeM"
      },
      "outputs": [],
      "source": [
        "KNN = KNeighborsClassifier(n_neighbors=6)"
      ]
    },
    {
      "cell_type": "code",
      "execution_count": 19,
      "metadata": {
        "colab": {
          "base_uri": "https://localhost:8080/",
          "height": 74
        },
        "id": "MPQSXLz8C1bQ",
        "outputId": "5e08c40a-e198-4802-a5a7-bb89427d41e2"
      },
      "outputs": [
        {
          "data": {
            "text/html": [
              "<style>#sk-container-id-1 {color: black;background-color: white;}#sk-container-id-1 pre{padding: 0;}#sk-container-id-1 div.sk-toggleable {background-color: white;}#sk-container-id-1 label.sk-toggleable__label {cursor: pointer;display: block;width: 100%;margin-bottom: 0;padding: 0.3em;box-sizing: border-box;text-align: center;}#sk-container-id-1 label.sk-toggleable__label-arrow:before {content: \"▸\";float: left;margin-right: 0.25em;color: #696969;}#sk-container-id-1 label.sk-toggleable__label-arrow:hover:before {color: black;}#sk-container-id-1 div.sk-estimator:hover label.sk-toggleable__label-arrow:before {color: black;}#sk-container-id-1 div.sk-toggleable__content {max-height: 0;max-width: 0;overflow: hidden;text-align: left;background-color: #f0f8ff;}#sk-container-id-1 div.sk-toggleable__content pre {margin: 0.2em;color: black;border-radius: 0.25em;background-color: #f0f8ff;}#sk-container-id-1 input.sk-toggleable__control:checked~div.sk-toggleable__content {max-height: 200px;max-width: 100%;overflow: auto;}#sk-container-id-1 input.sk-toggleable__control:checked~label.sk-toggleable__label-arrow:before {content: \"▾\";}#sk-container-id-1 div.sk-estimator input.sk-toggleable__control:checked~label.sk-toggleable__label {background-color: #d4ebff;}#sk-container-id-1 div.sk-label input.sk-toggleable__control:checked~label.sk-toggleable__label {background-color: #d4ebff;}#sk-container-id-1 input.sk-hidden--visually {border: 0;clip: rect(1px 1px 1px 1px);clip: rect(1px, 1px, 1px, 1px);height: 1px;margin: -1px;overflow: hidden;padding: 0;position: absolute;width: 1px;}#sk-container-id-1 div.sk-estimator {font-family: monospace;background-color: #f0f8ff;border: 1px dotted black;border-radius: 0.25em;box-sizing: border-box;margin-bottom: 0.5em;}#sk-container-id-1 div.sk-estimator:hover {background-color: #d4ebff;}#sk-container-id-1 div.sk-parallel-item::after {content: \"\";width: 100%;border-bottom: 1px solid gray;flex-grow: 1;}#sk-container-id-1 div.sk-label:hover label.sk-toggleable__label {background-color: #d4ebff;}#sk-container-id-1 div.sk-serial::before {content: \"\";position: absolute;border-left: 1px solid gray;box-sizing: border-box;top: 0;bottom: 0;left: 50%;z-index: 0;}#sk-container-id-1 div.sk-serial {display: flex;flex-direction: column;align-items: center;background-color: white;padding-right: 0.2em;padding-left: 0.2em;position: relative;}#sk-container-id-1 div.sk-item {position: relative;z-index: 1;}#sk-container-id-1 div.sk-parallel {display: flex;align-items: stretch;justify-content: center;background-color: white;position: relative;}#sk-container-id-1 div.sk-item::before, #sk-container-id-1 div.sk-parallel-item::before {content: \"\";position: absolute;border-left: 1px solid gray;box-sizing: border-box;top: 0;bottom: 0;left: 50%;z-index: -1;}#sk-container-id-1 div.sk-parallel-item {display: flex;flex-direction: column;z-index: 1;position: relative;background-color: white;}#sk-container-id-1 div.sk-parallel-item:first-child::after {align-self: flex-end;width: 50%;}#sk-container-id-1 div.sk-parallel-item:last-child::after {align-self: flex-start;width: 50%;}#sk-container-id-1 div.sk-parallel-item:only-child::after {width: 0;}#sk-container-id-1 div.sk-dashed-wrapped {border: 1px dashed gray;margin: 0 0.4em 0.5em 0.4em;box-sizing: border-box;padding-bottom: 0.4em;background-color: white;}#sk-container-id-1 div.sk-label label {font-family: monospace;font-weight: bold;display: inline-block;line-height: 1.2em;}#sk-container-id-1 div.sk-label-container {text-align: center;}#sk-container-id-1 div.sk-container {/* jupyter's `normalize.less` sets `[hidden] { display: none; }` but bootstrap.min.css set `[hidden] { display: none !important; }` so we also need the `!important` here to be able to override the default hidden behavior on the sphinx rendered scikit-learn.org. See: https://github.com/scikit-learn/scikit-learn/issues/21755 */display: inline-block !important;position: relative;}#sk-container-id-1 div.sk-text-repr-fallback {display: none;}</style><div id=\"sk-container-id-1\" class=\"sk-top-container\"><div class=\"sk-text-repr-fallback\"><pre>KNeighborsClassifier(n_neighbors=6)</pre><b>In a Jupyter environment, please rerun this cell to show the HTML representation or trust the notebook. <br />On GitHub, the HTML representation is unable to render, please try loading this page with nbviewer.org.</b></div><div class=\"sk-container\" hidden><div class=\"sk-item\"><div class=\"sk-estimator sk-toggleable\"><input class=\"sk-toggleable__control sk-hidden--visually\" id=\"sk-estimator-id-1\" type=\"checkbox\" checked><label for=\"sk-estimator-id-1\" class=\"sk-toggleable__label sk-toggleable__label-arrow\">KNeighborsClassifier</label><div class=\"sk-toggleable__content\"><pre>KNeighborsClassifier(n_neighbors=6)</pre></div></div></div></div></div>"
            ],
            "text/plain": [
              "KNeighborsClassifier(n_neighbors=6)"
            ]
          },
          "execution_count": 19,
          "metadata": {},
          "output_type": "execute_result"
        }
      ],
      "source": [
        "KNN.fit(x_train, y_train)"
      ]
    },
    {
      "cell_type": "code",
      "execution_count": 20,
      "metadata": {
        "id": "U2SsDIxVC7gs"
      },
      "outputs": [],
      "source": [
        "y_pred = KNN.predict(x_test)"
      ]
    },
    {
      "cell_type": "code",
      "execution_count": 21,
      "metadata": {
        "id": "QiPEJV6XD-WT"
      },
      "outputs": [],
      "source": [
        "from sklearn.metrics import confusion_matrix, classification_report"
      ]
    },
    {
      "cell_type": "code",
      "execution_count": 22,
      "metadata": {
        "colab": {
          "base_uri": "https://localhost:8080/"
        },
        "id": "YGGR92pPEHwZ",
        "outputId": "35798fbd-abbf-48e3-a760-cf4642167069"
      },
      "outputs": [
        {
          "name": "stdout",
          "output_type": "stream",
          "text": [
            "[[15  0  3  0  0  0  1  0  0  1]\n",
            " [ 0 12  0  0  0  1  0  0  0  0]\n",
            " [ 1  1 19  1  1  1  0  1  1  1]\n",
            " [ 2  0  1 16  1  0  1  0  0  0]\n",
            " [ 0  0  0  1 11  0  0  1  2  0]\n",
            " [ 0  2  2  1  0 16  0  1  0  0]\n",
            " [ 0  0  0  2  0  0 22  0  0  1]\n",
            " [ 0  0  1  1  0  0  0 10  1  0]\n",
            " [ 0  0  3  4  4  0  1  1  8  2]\n",
            " [ 2  1  4  2  1  0  0  1  1  9]]\n",
            "              precision    recall  f1-score   support\n",
            "\n",
            "           0       0.75      0.75      0.75        20\n",
            "           1       0.75      0.92      0.83        13\n",
            "           2       0.58      0.70      0.63        27\n",
            "           3       0.57      0.76      0.65        21\n",
            "           4       0.61      0.73      0.67        15\n",
            "           5       0.89      0.73      0.80        22\n",
            "           6       0.88      0.88      0.88        25\n",
            "           7       0.67      0.77      0.71        13\n",
            "           8       0.62      0.35      0.44        23\n",
            "           9       0.64      0.43      0.51        21\n",
            "\n",
            "    accuracy                           0.69       200\n",
            "   macro avg       0.70      0.70      0.69       200\n",
            "weighted avg       0.70      0.69      0.68       200\n",
            "\n"
          ]
        }
      ],
      "source": [
        "print(confusion_matrix(y_test, y_pred))\n",
        "print(classification_report(y_test, y_pred))"
      ]
    },
    {
      "cell_type": "code",
      "execution_count": 23,
      "metadata": {
        "id": "QSLWAxlTGCoz"
      },
      "outputs": [],
      "source": [
        "error_rate = []\n",
        "\n",
        "for i in range(1,40):\n",
        "  KNN = KNeighborsClassifier(n_neighbors = i)\n",
        "  KNN.fit(x_train,y_train)\n",
        "  pred_i = KNN.predict(x_test)\n",
        "\n",
        "  error_rate.append(np.mean(pred_i != y_test))\n"
      ]
    },
    {
      "cell_type": "code",
      "execution_count": 24,
      "metadata": {
        "colab": {
          "base_uri": "https://localhost:8080/",
          "height": 582
        },
        "id": "06OK-oD2G4yB",
        "outputId": "40317494-44a1-4192-bde9-bcc5bba7bbf5"
      },
      "outputs": [
        {
          "data": {
            "text/plain": [
              "Text(0, 0.5, 'Error Rate')"
            ]
          },
          "execution_count": 24,
          "metadata": {},
          "output_type": "execute_result"
        },
        {
          "data": {
            "image/png": "[encoded data removed]",
            "text/plain": [
              "<Figure size 1000x600 with 1 Axes>"
            ]
          },
          "metadata": {},
          "output_type": "display_data"
        }
      ],
      "source": [
        "plt.figure(figsize = (10,6))\n",
        "\n",
        "plt.plot(range(1,40), error_rate, color = 'blue', linestyle = '--', markersize = '10', markerfacecolor = 'red', marker = 'o')\n",
        "\n",
        "plt.title('K / Error_Rate')\n",
        "plt.xlabel('K')\n",
        "plt.ylabel('Error Rate')"
      ]
    }
  ],
  "metadata": {
    "colab": {
      "provenance": []
    },
    "kernelspec": {
      "display_name": "Python 3",
      "name": "python3"
    },
    "language_info": {
      "codemirror_mode": {
        "name": "ipython",
        "version": 3
      },
      "file_extension": ".py",
      "mimetype": "text/x-python",
      "name": "python",
      "nbconvert_exporter": "python",
      "pygments_lexer": "ipython3",
      "version": "3.11.7"
    }
  },
  "nbformat": 4,
  "nbformat_minor": 0
}
