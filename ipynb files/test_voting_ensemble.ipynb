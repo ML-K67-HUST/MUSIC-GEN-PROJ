{
 "cells": [
  {
   "cell_type": "code",
   "execution_count": 45,
   "metadata": {},
   "outputs": [],
   "source": [
    "import pandas as pd\n",
    "import numpy as np\n",
    "\n",
    "\n",
    "df = pd.read_csv('/home/khangpt/MUSIC-GEN-PROJ/GTZAN/Data/features_30_sec.csv')\n",
    "X = df.iloc[:,2:-1]\n",
    "y = df.iloc[:,-1]"
   ]
  },
  {
   "cell_type": "code",
   "execution_count": 46,
   "metadata": {},
   "outputs": [
    {
     "data": {
      "text/plain": [
       "array([0, 0, 0, 0, 0, 0, 0, 0, 0, 0, 0, 0, 0, 0, 0, 0, 0, 0, 0, 0, 0, 0,\n",
       "       0, 0, 0, 0, 0, 0, 0, 0, 0, 0, 0, 0, 0, 0, 0, 0, 0, 0, 0, 0, 0, 0,\n",
       "       0, 0, 0, 0, 0, 0, 0, 0, 0, 0, 0, 0, 0, 0, 0, 0, 0, 0, 0, 0, 0, 0,\n",
       "       0, 0, 0, 0, 0, 0, 0, 0, 0, 0, 0, 0, 0, 0, 0, 0, 0, 0, 0, 0, 0, 0,\n",
       "       0, 0, 0, 0, 0, 0, 0, 0, 0, 0, 0, 0, 1, 1, 1, 1, 1, 1, 1, 1, 1, 1,\n",
       "       1, 1, 1, 1, 1, 1, 1, 1, 1, 1, 1, 1, 1, 1, 1, 1, 1, 1, 1, 1, 1, 1,\n",
       "       1, 1, 1, 1, 1, 1, 1, 1, 1, 1, 1, 1, 1, 1, 1, 1, 1, 1, 1, 1, 1, 1,\n",
       "       1, 1, 1, 1, 1, 1, 1, 1, 1, 1, 1, 1, 1, 1, 1, 1, 1, 1, 1, 1, 1, 1,\n",
       "       1, 1, 1, 1, 1, 1, 1, 1, 1, 1, 1, 1, 1, 1, 1, 1, 1, 1, 1, 1, 1, 1,\n",
       "       1, 1, 2, 2, 2, 2, 2, 2, 2, 2, 2, 2, 2, 2, 2, 2, 2, 2, 2, 2, 2, 2,\n",
       "       2, 2, 2, 2, 2, 2, 2, 2, 2, 2, 2, 2, 2, 2, 2, 2, 2, 2, 2, 2, 2, 2,\n",
       "       2, 2, 2, 2, 2, 2, 2, 2, 2, 2, 2, 2, 2, 2, 2, 2, 2, 2, 2, 2, 2, 2,\n",
       "       2, 2, 2, 2, 2, 2, 2, 2, 2, 2, 2, 2, 2, 2, 2, 2, 2, 2, 2, 2, 2, 2,\n",
       "       2, 2, 2, 2, 2, 2, 2, 2, 2, 2, 2, 2, 2, 2, 3, 3, 3, 3, 3, 3, 3, 3,\n",
       "       3, 3, 3, 3, 3, 3, 3, 3, 3, 3, 3, 3, 3, 3, 3, 3, 3, 3, 3, 3, 3, 3,\n",
       "       3, 3, 3, 3, 3, 3, 3, 3, 3, 3, 3, 3, 3, 3, 3, 3, 3, 3, 3, 3, 3, 3,\n",
       "       3, 3, 3, 3, 3, 3, 3, 3, 3, 3, 3, 3, 3, 3, 3, 3, 3, 3, 3, 3, 3, 3,\n",
       "       3, 3, 3, 3, 3, 3, 3, 3, 3, 3, 3, 3, 3, 3, 3, 3, 3, 3, 3, 3, 3, 3,\n",
       "       3, 3, 3, 3, 4, 4, 4, 4, 4, 4, 4, 4, 4, 4, 4, 4, 4, 4, 4, 4, 4, 4,\n",
       "       4, 4, 4, 4, 4, 4, 4, 4, 4, 4, 4, 4, 4, 4, 4, 4, 4, 4, 4, 4, 4, 4,\n",
       "       4, 4, 4, 4, 4, 4, 4, 4, 4, 4, 4, 4, 4, 4, 4, 4, 4, 4, 4, 4, 4, 4,\n",
       "       4, 4, 4, 4, 4, 4, 4, 4, 4, 4, 4, 4, 4, 4, 4, 4, 4, 4, 4, 4, 4, 4,\n",
       "       4, 4, 4, 4, 4, 4, 4, 4, 4, 4, 4, 4, 4, 4, 4, 4, 5, 5, 5, 5, 5, 5,\n",
       "       5, 5, 5, 5, 5, 5, 5, 5, 5, 5, 5, 5, 5, 5, 5, 5, 5, 5, 5, 5, 5, 5,\n",
       "       5, 5, 5, 5, 5, 5, 5, 5, 5, 5, 5, 5, 5, 5, 5, 5, 5, 5, 5, 5, 5, 5,\n",
       "       5, 5, 5, 5, 5, 5, 5, 5, 5, 5, 5, 5, 5, 5, 5, 5, 5, 5, 5, 5, 5, 5,\n",
       "       5, 5, 5, 5, 5, 5, 5, 5, 5, 5, 5, 5, 5, 5, 5, 5, 5, 5, 5, 5, 5, 5,\n",
       "       5, 5, 5, 5, 5, 5, 6, 6, 6, 6, 6, 6, 6, 6, 6, 6, 6, 6, 6, 6, 6, 6,\n",
       "       6, 6, 6, 6, 6, 6, 6, 6, 6, 6, 6, 6, 6, 6, 6, 6, 6, 6, 6, 6, 6, 6,\n",
       "       6, 6, 6, 6, 6, 6, 6, 6, 6, 6, 6, 6, 6, 6, 6, 6, 6, 6, 6, 6, 6, 6,\n",
       "       6, 6, 6, 6, 6, 6, 6, 6, 6, 6, 6, 6, 6, 6, 6, 6, 6, 6, 6, 6, 6, 6,\n",
       "       6, 6, 6, 6, 6, 6, 6, 6, 6, 6, 6, 6, 6, 6, 6, 6, 6, 6, 7, 7, 7, 7,\n",
       "       7, 7, 7, 7, 7, 7, 7, 7, 7, 7, 7, 7, 7, 7, 7, 7, 7, 7, 7, 7, 7, 7,\n",
       "       7, 7, 7, 7, 7, 7, 7, 7, 7, 7, 7, 7, 7, 7, 7, 7, 7, 7, 7, 7, 7, 7,\n",
       "       7, 7, 7, 7, 7, 7, 7, 7, 7, 7, 7, 7, 7, 7, 7, 7, 7, 7, 7, 7, 7, 7,\n",
       "       7, 7, 7, 7, 7, 7, 7, 7, 7, 7, 7, 7, 7, 7, 7, 7, 7, 7, 7, 7, 7, 7,\n",
       "       7, 7, 7, 7, 7, 7, 7, 7, 8, 8, 8, 8, 8, 8, 8, 8, 8, 8, 8, 8, 8, 8,\n",
       "       8, 8, 8, 8, 8, 8, 8, 8, 8, 8, 8, 8, 8, 8, 8, 8, 8, 8, 8, 8, 8, 8,\n",
       "       8, 8, 8, 8, 8, 8, 8, 8, 8, 8, 8, 8, 8, 8, 8, 8, 8, 8, 8, 8, 8, 8,\n",
       "       8, 8, 8, 8, 8, 8, 8, 8, 8, 8, 8, 8, 8, 8, 8, 8, 8, 8, 8, 8, 8, 8,\n",
       "       8, 8, 8, 8, 8, 8, 8, 8, 8, 8, 8, 8, 8, 8, 8, 8, 8, 8, 8, 8, 9, 9,\n",
       "       9, 9, 9, 9, 9, 9, 9, 9, 9, 9, 9, 9, 9, 9, 9, 9, 9, 9, 9, 9, 9, 9,\n",
       "       9, 9, 9, 9, 9, 9, 9, 9, 9, 9, 9, 9, 9, 9, 9, 9, 9, 9, 9, 9, 9, 9,\n",
       "       9, 9, 9, 9, 9, 9, 9, 9, 9, 9, 9, 9, 9, 9, 9, 9, 9, 9, 9, 9, 9, 9,\n",
       "       9, 9, 9, 9, 9, 9, 9, 9, 9, 9, 9, 9, 9, 9, 9, 9, 9, 9, 9, 9, 9, 9,\n",
       "       9, 9, 9, 9, 9, 9, 9, 9, 9, 9], dtype=int8)"
      ]
     },
     "execution_count": 46,
     "metadata": {},
     "output_type": "execute_result"
    }
   ],
   "source": [
    "df.label = pd.Categorical(df.label)\n",
    "y = np.array(df.label.cat.codes)\n",
    "y"
   ]
  },
  {
   "cell_type": "code",
   "execution_count": 47,
   "metadata": {},
   "outputs": [],
   "source": [
    "from sklearn.ensemble import VotingClassifier\n",
    "from sklearn.neighbors import KNeighborsClassifier\n",
    "from sklearn.naive_bayes import GaussianNB\n",
    "from sklearn.linear_model import SGDClassifier, LogisticRegression\n",
    "from sklearn.tree import DecisionTreeClassifier\n",
    "from sklearn.svm import SVC\n",
    "from sklearn.neural_network import MLPClassifier\n",
    "from sklearn.svm import SVC\n",
    "from sklearn.model_selection import train_test_split\n",
    "from sklearn.metrics import accuracy_score\n",
    "from sklearn.preprocessing import MinMaxScaler\n",
    "from sklearn.pipeline import make_pipeline\n",
    "from sklearn.metrics import classification_report\n",
    "\n",
    "import pickle\n",
    "\n",
    "KNN = make_pipeline(MinMaxScaler(),KNeighborsClassifier(n_neighbors=1))\n",
    "SVM = make_pipeline(MinMaxScaler(),SVC(kernel='rbf', gamma='scale', C=50,probability=True))\n",
    "NB = make_pipeline(MinMaxScaler(),GaussianNB())\n",
    "SGD = make_pipeline(MinMaxScaler(),SGDClassifier(max_iter=5000, random_state=0))\n",
    "TREE = make_pipeline(MinMaxScaler(),DecisionTreeClassifier())\n",
    "LG = make_pipeline(MinMaxScaler(),LogisticRegression(random_state=0, solver='lbfgs', multi_class='multinomial'))\n",
    "MLP = make_pipeline(MinMaxScaler(),MLPClassifier(solver='lbfgs', alpha=1e-5, hidden_layer_sizes=(5000, 10), random_state=1))"
   ]
  },
  {
   "cell_type": "code",
   "execution_count": 48,
   "metadata": {},
   "outputs": [],
   "source": [
    "X_train, X_test, y_train, y_test = train_test_split(X,y,test_size=0.3, random_state=42)"
   ]
  },
  {
   "cell_type": "code",
   "execution_count": 49,
   "metadata": {},
   "outputs": [
    {
     "data": {
      "text/plain": [
       "array([5, 7, 7, 6, 4, 6, 6, 5, 8, 1, 8, 0, 6, 9, 9, 8, 2, 8, 7, 3, 5, 1,\n",
       "       3, 5, 2, 2, 1, 9, 9, 9, 3, 1, 6, 4, 3, 1, 6, 5, 9, 0, 3, 0, 3, 9,\n",
       "       2, 2, 9, 6, 4, 8, 5, 8, 2, 5, 0, 0, 6, 0, 2, 8, 2, 0, 5, 2, 6, 6,\n",
       "       6, 8, 0, 5, 1, 4, 5, 7, 2, 2, 6, 0, 5, 3, 6, 0, 2, 0, 3, 5, 9, 7,\n",
       "       7, 3, 3, 4, 5, 2, 7, 4, 7, 0, 0, 8, 7, 3, 9, 2, 6, 6, 5, 9, 1, 9,\n",
       "       5, 8, 9, 8, 0, 4, 1, 9, 5, 2, 8, 4, 7, 2, 2, 5, 5, 4, 8, 8, 5, 8,\n",
       "       2, 9, 5, 0, 1, 2, 0, 0, 0, 2, 7, 2, 8, 9, 8, 2, 8, 3, 6, 1, 9, 4,\n",
       "       9, 4, 3, 6, 0, 8, 5, 7, 6, 6, 8, 6, 2, 6, 3, 3, 3, 4, 1, 9, 4, 3,\n",
       "       2, 2, 8, 6, 4, 6, 3, 5, 8, 1, 3, 3, 9, 7, 9, 8, 6, 1, 2, 4, 3, 2,\n",
       "       6, 0, 0, 5, 6, 5, 8, 5, 1, 9, 4, 8, 0, 1, 9, 8, 6, 3, 6, 2, 9, 7,\n",
       "       3, 7, 9, 0, 8, 0, 5, 3, 9, 5, 3, 9, 4, 5, 0, 0, 2, 9, 1, 3, 0, 2,\n",
       "       5, 7, 3, 1, 4, 0, 0, 2, 0, 9, 7, 8, 3, 3, 5, 9, 9, 0, 7, 4, 0, 2,\n",
       "       3, 8, 7, 3, 6, 3, 4, 1, 9, 2, 5, 0, 1, 6, 0, 7, 5, 7, 2, 2, 2, 7,\n",
       "       3, 4, 2, 9, 9, 7, 5, 4, 3, 4, 9, 4, 0, 1], dtype=int8)"
      ]
     },
     "execution_count": 49,
     "metadata": {},
     "output_type": "execute_result"
    }
   ],
   "source": [
    "y_test"
   ]
  },
  {
   "cell_type": "code",
   "execution_count": 50,
   "metadata": {},
   "outputs": [
    {
     "name": "stderr",
     "output_type": "stream",
     "text": [
      "/home/khangpt/anaconda3/lib/python3.11/site-packages/sklearn/linear_model/_logistic.py:458: ConvergenceWarning: lbfgs failed to converge (status=1):\n",
      "STOP: TOTAL NO. of ITERATIONS REACHED LIMIT.\n",
      "\n",
      "Increase the number of iterations (max_iter) or scale the data as shown in:\n",
      "    https://scikit-learn.org/stable/modules/preprocessing.html\n",
      "Please also refer to the documentation for alternative solver options:\n",
      "    https://scikit-learn.org/stable/modules/linear_model.html#logistic-regression\n",
      "  n_iter_i = _check_optimize_result(\n",
      "/home/khangpt/anaconda3/lib/python3.11/site-packages/sklearn/neural_network/_multilayer_perceptron.py:541: ConvergenceWarning: lbfgs failed to converge (status=1):\n",
      "STOP: TOTAL NO. of ITERATIONS REACHED LIMIT.\n",
      "\n",
      "Increase the number of iterations (max_iter) or scale the data as shown in:\n",
      "    https://scikit-learn.org/stable/modules/preprocessing.html\n",
      "  self.n_iter_ = _check_optimize_result(\"lbfgs\", opt_res, self.max_iter)\n"
     ]
    },
    {
     "data": {
      "text/html": [
       "<style>#sk-container-id-6 {color: black;background-color: white;}#sk-container-id-6 pre{padding: 0;}#sk-container-id-6 div.sk-toggleable {background-color: white;}#sk-container-id-6 label.sk-toggleable__label {cursor: pointer;display: block;width: 100%;margin-bottom: 0;padding: 0.3em;box-sizing: border-box;text-align: center;}#sk-container-id-6 label.sk-toggleable__label-arrow:before {content: \"▸\";float: left;margin-right: 0.25em;color: #696969;}#sk-container-id-6 label.sk-toggleable__label-arrow:hover:before {color: black;}#sk-container-id-6 div.sk-estimator:hover label.sk-toggleable__label-arrow:before {color: black;}#sk-container-id-6 div.sk-toggleable__content {max-height: 0;max-width: 0;overflow: hidden;text-align: left;background-color: #f0f8ff;}#sk-container-id-6 div.sk-toggleable__content pre {margin: 0.2em;color: black;border-radius: 0.25em;background-color: #f0f8ff;}#sk-container-id-6 input.sk-toggleable__control:checked~div.sk-toggleable__content {max-height: 200px;max-width: 100%;overflow: auto;}#sk-container-id-6 input.sk-toggleable__control:checked~label.sk-toggleable__label-arrow:before {content: \"▾\";}#sk-container-id-6 div.sk-estimator input.sk-toggleable__control:checked~label.sk-toggleable__label {background-color: #d4ebff;}#sk-container-id-6 div.sk-label input.sk-toggleable__control:checked~label.sk-toggleable__label {background-color: #d4ebff;}#sk-container-id-6 input.sk-hidden--visually {border: 0;clip: rect(1px 1px 1px 1px);clip: rect(1px, 1px, 1px, 1px);height: 1px;margin: -1px;overflow: hidden;padding: 0;position: absolute;width: 1px;}#sk-container-id-6 div.sk-estimator {font-family: monospace;background-color: #f0f8ff;border: 1px dotted black;border-radius: 0.25em;box-sizing: border-box;margin-bottom: 0.5em;}#sk-container-id-6 div.sk-estimator:hover {background-color: #d4ebff;}#sk-container-id-6 div.sk-parallel-item::after {content: \"\";width: 100%;border-bottom: 1px solid gray;flex-grow: 1;}#sk-container-id-6 div.sk-label:hover label.sk-toggleable__label {background-color: #d4ebff;}#sk-container-id-6 div.sk-serial::before {content: \"\";position: absolute;border-left: 1px solid gray;box-sizing: border-box;top: 0;bottom: 0;left: 50%;z-index: 0;}#sk-container-id-6 div.sk-serial {display: flex;flex-direction: column;align-items: center;background-color: white;padding-right: 0.2em;padding-left: 0.2em;position: relative;}#sk-container-id-6 div.sk-item {position: relative;z-index: 1;}#sk-container-id-6 div.sk-parallel {display: flex;align-items: stretch;justify-content: center;background-color: white;position: relative;}#sk-container-id-6 div.sk-item::before, #sk-container-id-6 div.sk-parallel-item::before {content: \"\";position: absolute;border-left: 1px solid gray;box-sizing: border-box;top: 0;bottom: 0;left: 50%;z-index: -1;}#sk-container-id-6 div.sk-parallel-item {display: flex;flex-direction: column;z-index: 1;position: relative;background-color: white;}#sk-container-id-6 div.sk-parallel-item:first-child::after {align-self: flex-end;width: 50%;}#sk-container-id-6 div.sk-parallel-item:last-child::after {align-self: flex-start;width: 50%;}#sk-container-id-6 div.sk-parallel-item:only-child::after {width: 0;}#sk-container-id-6 div.sk-dashed-wrapped {border: 1px dashed gray;margin: 0 0.4em 0.5em 0.4em;box-sizing: border-box;padding-bottom: 0.4em;background-color: white;}#sk-container-id-6 div.sk-label label {font-family: monospace;font-weight: bold;display: inline-block;line-height: 1.2em;}#sk-container-id-6 div.sk-label-container {text-align: center;}#sk-container-id-6 div.sk-container {/* jupyter's `normalize.less` sets `[hidden] { display: none; }` but bootstrap.min.css set `[hidden] { display: none !important; }` so we also need the `!important` here to be able to override the default hidden behavior on the sphinx rendered scikit-learn.org. See: https://github.com/scikit-learn/scikit-learn/issues/21755 */display: inline-block !important;position: relative;}#sk-container-id-6 div.sk-text-repr-fallback {display: none;}</style><div id=\"sk-container-id-6\" class=\"sk-top-container\"><div class=\"sk-text-repr-fallback\"><pre>VotingClassifier(estimators=[(&#x27;svm&#x27;,\n",
       "                              Pipeline(steps=[(&#x27;minmaxscaler&#x27;, MinMaxScaler()),\n",
       "                                              (&#x27;svc&#x27;,\n",
       "                                               SVC(C=50, probability=True))])),\n",
       "                             (&#x27;knn&#x27;,\n",
       "                              Pipeline(steps=[(&#x27;minmaxscaler&#x27;, MinMaxScaler()),\n",
       "                                              (&#x27;kneighborsclassifier&#x27;,\n",
       "                                               KNeighborsClassifier(n_neighbors=1))])),\n",
       "                             (&#x27;nb&#x27;,\n",
       "                              Pipeline(steps=[(&#x27;minmaxscaler&#x27;, MinMaxScaler()),\n",
       "                                              (&#x27;gaussiannb&#x27;, GaussianNB())])),\n",
       "                             (&#x27;sgd&#x27;,\n",
       "                              Pipeline(steps=[(...\n",
       "                                              (&#x27;decisiontreeclassifier&#x27;,\n",
       "                                               DecisionTreeClassifier())])),\n",
       "                             (&#x27;LG&#x27;,\n",
       "                              Pipeline(steps=[(&#x27;minmaxscaler&#x27;, MinMaxScaler()),\n",
       "                                              (&#x27;logisticregression&#x27;,\n",
       "                                               LogisticRegression(multi_class=&#x27;multinomial&#x27;,\n",
       "                                                                  random_state=0))])),\n",
       "                             (&#x27;mlp&#x27;,\n",
       "                              Pipeline(steps=[(&#x27;minmaxscaler&#x27;, MinMaxScaler()),\n",
       "                                              (&#x27;mlpclassifier&#x27;,\n",
       "                                               MLPClassifier(alpha=1e-05,\n",
       "                                                             hidden_layer_sizes=(5000,\n",
       "                                                                                 10),\n",
       "                                                             random_state=1,\n",
       "                                                             solver=&#x27;lbfgs&#x27;))]))])</pre><b>In a Jupyter environment, please rerun this cell to show the HTML representation or trust the notebook. <br />On GitHub, the HTML representation is unable to render, please try loading this page with nbviewer.org.</b></div><div class=\"sk-container\" hidden><div class=\"sk-item sk-dashed-wrapped\"><div class=\"sk-label-container\"><div class=\"sk-label sk-toggleable\"><input class=\"sk-toggleable__control sk-hidden--visually\" id=\"sk-estimator-id-46\" type=\"checkbox\" ><label for=\"sk-estimator-id-46\" class=\"sk-toggleable__label sk-toggleable__label-arrow\">VotingClassifier</label><div class=\"sk-toggleable__content\"><pre>VotingClassifier(estimators=[(&#x27;svm&#x27;,\n",
       "                              Pipeline(steps=[(&#x27;minmaxscaler&#x27;, MinMaxScaler()),\n",
       "                                              (&#x27;svc&#x27;,\n",
       "                                               SVC(C=50, probability=True))])),\n",
       "                             (&#x27;knn&#x27;,\n",
       "                              Pipeline(steps=[(&#x27;minmaxscaler&#x27;, MinMaxScaler()),\n",
       "                                              (&#x27;kneighborsclassifier&#x27;,\n",
       "                                               KNeighborsClassifier(n_neighbors=1))])),\n",
       "                             (&#x27;nb&#x27;,\n",
       "                              Pipeline(steps=[(&#x27;minmaxscaler&#x27;, MinMaxScaler()),\n",
       "                                              (&#x27;gaussiannb&#x27;, GaussianNB())])),\n",
       "                             (&#x27;sgd&#x27;,\n",
       "                              Pipeline(steps=[(...\n",
       "                                              (&#x27;decisiontreeclassifier&#x27;,\n",
       "                                               DecisionTreeClassifier())])),\n",
       "                             (&#x27;LG&#x27;,\n",
       "                              Pipeline(steps=[(&#x27;minmaxscaler&#x27;, MinMaxScaler()),\n",
       "                                              (&#x27;logisticregression&#x27;,\n",
       "                                               LogisticRegression(multi_class=&#x27;multinomial&#x27;,\n",
       "                                                                  random_state=0))])),\n",
       "                             (&#x27;mlp&#x27;,\n",
       "                              Pipeline(steps=[(&#x27;minmaxscaler&#x27;, MinMaxScaler()),\n",
       "                                              (&#x27;mlpclassifier&#x27;,\n",
       "                                               MLPClassifier(alpha=1e-05,\n",
       "                                                             hidden_layer_sizes=(5000,\n",
       "                                                                                 10),\n",
       "                                                             random_state=1,\n",
       "                                                             solver=&#x27;lbfgs&#x27;))]))])</pre></div></div></div><div class=\"sk-parallel\"><div class=\"sk-parallel-item\"><div class=\"sk-item\"><div class=\"sk-label-container\"><div class=\"sk-label sk-toggleable\"><label>svm</label></div></div><div class=\"sk-serial\"><div class=\"sk-item\"><div class=\"sk-serial\"><div class=\"sk-item\"><div class=\"sk-estimator sk-toggleable\"><input class=\"sk-toggleable__control sk-hidden--visually\" id=\"sk-estimator-id-47\" type=\"checkbox\" ><label for=\"sk-estimator-id-47\" class=\"sk-toggleable__label sk-toggleable__label-arrow\">MinMaxScaler</label><div class=\"sk-toggleable__content\"><pre>MinMaxScaler()</pre></div></div></div><div class=\"sk-item\"><div class=\"sk-estimator sk-toggleable\"><input class=\"sk-toggleable__control sk-hidden--visually\" id=\"sk-estimator-id-48\" type=\"checkbox\" ><label for=\"sk-estimator-id-48\" class=\"sk-toggleable__label sk-toggleable__label-arrow\">SVC</label><div class=\"sk-toggleable__content\"><pre>SVC(C=50, probability=True)</pre></div></div></div></div></div></div></div></div><div class=\"sk-parallel-item\"><div class=\"sk-item\"><div class=\"sk-label-container\"><div class=\"sk-label sk-toggleable\"><label>knn</label></div></div><div class=\"sk-serial\"><div class=\"sk-item\"><div class=\"sk-serial\"><div class=\"sk-item\"><div class=\"sk-estimator sk-toggleable\"><input class=\"sk-toggleable__control sk-hidden--visually\" id=\"sk-estimator-id-49\" type=\"checkbox\" ><label for=\"sk-estimator-id-49\" class=\"sk-toggleable__label sk-toggleable__label-arrow\">MinMaxScaler</label><div class=\"sk-toggleable__content\"><pre>MinMaxScaler()</pre></div></div></div><div class=\"sk-item\"><div class=\"sk-estimator sk-toggleable\"><input class=\"sk-toggleable__control sk-hidden--visually\" id=\"sk-estimator-id-50\" type=\"checkbox\" ><label for=\"sk-estimator-id-50\" class=\"sk-toggleable__label sk-toggleable__label-arrow\">KNeighborsClassifier</label><div class=\"sk-toggleable__content\"><pre>KNeighborsClassifier(n_neighbors=1)</pre></div></div></div></div></div></div></div></div><div class=\"sk-parallel-item\"><div class=\"sk-item\"><div class=\"sk-label-container\"><div class=\"sk-label sk-toggleable\"><label>nb</label></div></div><div class=\"sk-serial\"><div class=\"sk-item\"><div class=\"sk-serial\"><div class=\"sk-item\"><div class=\"sk-estimator sk-toggleable\"><input class=\"sk-toggleable__control sk-hidden--visually\" id=\"sk-estimator-id-51\" type=\"checkbox\" ><label for=\"sk-estimator-id-51\" class=\"sk-toggleable__label sk-toggleable__label-arrow\">MinMaxScaler</label><div class=\"sk-toggleable__content\"><pre>MinMaxScaler()</pre></div></div></div><div class=\"sk-item\"><div class=\"sk-estimator sk-toggleable\"><input class=\"sk-toggleable__control sk-hidden--visually\" id=\"sk-estimator-id-52\" type=\"checkbox\" ><label for=\"sk-estimator-id-52\" class=\"sk-toggleable__label sk-toggleable__label-arrow\">GaussianNB</label><div class=\"sk-toggleable__content\"><pre>GaussianNB()</pre></div></div></div></div></div></div></div></div><div class=\"sk-parallel-item\"><div class=\"sk-item\"><div class=\"sk-label-container\"><div class=\"sk-label sk-toggleable\"><label>sgd</label></div></div><div class=\"sk-serial\"><div class=\"sk-item\"><div class=\"sk-serial\"><div class=\"sk-item\"><div class=\"sk-estimator sk-toggleable\"><input class=\"sk-toggleable__control sk-hidden--visually\" id=\"sk-estimator-id-53\" type=\"checkbox\" ><label for=\"sk-estimator-id-53\" class=\"sk-toggleable__label sk-toggleable__label-arrow\">MinMaxScaler</label><div class=\"sk-toggleable__content\"><pre>MinMaxScaler()</pre></div></div></div><div class=\"sk-item\"><div class=\"sk-estimator sk-toggleable\"><input class=\"sk-toggleable__control sk-hidden--visually\" id=\"sk-estimator-id-54\" type=\"checkbox\" ><label for=\"sk-estimator-id-54\" class=\"sk-toggleable__label sk-toggleable__label-arrow\">SGDClassifier</label><div class=\"sk-toggleable__content\"><pre>SGDClassifier(max_iter=5000, random_state=0)</pre></div></div></div></div></div></div></div></div><div class=\"sk-parallel-item\"><div class=\"sk-item\"><div class=\"sk-label-container\"><div class=\"sk-label sk-toggleable\"><label>tree</label></div></div><div class=\"sk-serial\"><div class=\"sk-item\"><div class=\"sk-serial\"><div class=\"sk-item\"><div class=\"sk-estimator sk-toggleable\"><input class=\"sk-toggleable__control sk-hidden--visually\" id=\"sk-estimator-id-55\" type=\"checkbox\" ><label for=\"sk-estimator-id-55\" class=\"sk-toggleable__label sk-toggleable__label-arrow\">MinMaxScaler</label><div class=\"sk-toggleable__content\"><pre>MinMaxScaler()</pre></div></div></div><div class=\"sk-item\"><div class=\"sk-estimator sk-toggleable\"><input class=\"sk-toggleable__control sk-hidden--visually\" id=\"sk-estimator-id-56\" type=\"checkbox\" ><label for=\"sk-estimator-id-56\" class=\"sk-toggleable__label sk-toggleable__label-arrow\">DecisionTreeClassifier</label><div class=\"sk-toggleable__content\"><pre>DecisionTreeClassifier()</pre></div></div></div></div></div></div></div></div><div class=\"sk-parallel-item\"><div class=\"sk-item\"><div class=\"sk-label-container\"><div class=\"sk-label sk-toggleable\"><label>LG</label></div></div><div class=\"sk-serial\"><div class=\"sk-item\"><div class=\"sk-serial\"><div class=\"sk-item\"><div class=\"sk-estimator sk-toggleable\"><input class=\"sk-toggleable__control sk-hidden--visually\" id=\"sk-estimator-id-57\" type=\"checkbox\" ><label for=\"sk-estimator-id-57\" class=\"sk-toggleable__label sk-toggleable__label-arrow\">MinMaxScaler</label><div class=\"sk-toggleable__content\"><pre>MinMaxScaler()</pre></div></div></div><div class=\"sk-item\"><div class=\"sk-estimator sk-toggleable\"><input class=\"sk-toggleable__control sk-hidden--visually\" id=\"sk-estimator-id-58\" type=\"checkbox\" ><label for=\"sk-estimator-id-58\" class=\"sk-toggleable__label sk-toggleable__label-arrow\">LogisticRegression</label><div class=\"sk-toggleable__content\"><pre>LogisticRegression(multi_class=&#x27;multinomial&#x27;, random_state=0)</pre></div></div></div></div></div></div></div></div><div class=\"sk-parallel-item\"><div class=\"sk-item\"><div class=\"sk-label-container\"><div class=\"sk-label sk-toggleable\"><label>mlp</label></div></div><div class=\"sk-serial\"><div class=\"sk-item\"><div class=\"sk-serial\"><div class=\"sk-item\"><div class=\"sk-estimator sk-toggleable\"><input class=\"sk-toggleable__control sk-hidden--visually\" id=\"sk-estimator-id-59\" type=\"checkbox\" ><label for=\"sk-estimator-id-59\" class=\"sk-toggleable__label sk-toggleable__label-arrow\">MinMaxScaler</label><div class=\"sk-toggleable__content\"><pre>MinMaxScaler()</pre></div></div></div><div class=\"sk-item\"><div class=\"sk-estimator sk-toggleable\"><input class=\"sk-toggleable__control sk-hidden--visually\" id=\"sk-estimator-id-60\" type=\"checkbox\" ><label for=\"sk-estimator-id-60\" class=\"sk-toggleable__label sk-toggleable__label-arrow\">MLPClassifier</label><div class=\"sk-toggleable__content\"><pre>MLPClassifier(alpha=1e-05, hidden_layer_sizes=(5000, 10), random_state=1,\n",
       "              solver=&#x27;lbfgs&#x27;)</pre></div></div></div></div></div></div></div></div></div></div></div></div>"
      ],
      "text/plain": [
       "VotingClassifier(estimators=[('svm',\n",
       "                              Pipeline(steps=[('minmaxscaler', MinMaxScaler()),\n",
       "                                              ('svc',\n",
       "                                               SVC(C=50, probability=True))])),\n",
       "                             ('knn',\n",
       "                              Pipeline(steps=[('minmaxscaler', MinMaxScaler()),\n",
       "                                              ('kneighborsclassifier',\n",
       "                                               KNeighborsClassifier(n_neighbors=1))])),\n",
       "                             ('nb',\n",
       "                              Pipeline(steps=[('minmaxscaler', MinMaxScaler()),\n",
       "                                              ('gaussiannb', GaussianNB())])),\n",
       "                             ('sgd',\n",
       "                              Pipeline(steps=[(...\n",
       "                                              ('decisiontreeclassifier',\n",
       "                                               DecisionTreeClassifier())])),\n",
       "                             ('LG',\n",
       "                              Pipeline(steps=[('minmaxscaler', MinMaxScaler()),\n",
       "                                              ('logisticregression',\n",
       "                                               LogisticRegression(multi_class='multinomial',\n",
       "                                                                  random_state=0))])),\n",
       "                             ('mlp',\n",
       "                              Pipeline(steps=[('minmaxscaler', MinMaxScaler()),\n",
       "                                              ('mlpclassifier',\n",
       "                                               MLPClassifier(alpha=1e-05,\n",
       "                                                             hidden_layer_sizes=(5000,\n",
       "                                                                                 10),\n",
       "                                                             random_state=1,\n",
       "                                                             solver='lbfgs'))]))])"
      ]
     },
     "execution_count": 50,
     "metadata": {},
     "output_type": "execute_result"
    }
   ],
   "source": [
    "voting_clf = VotingClassifier(\n",
    "    estimators=[('svm',SVM),\n",
    "                ('knn',KNN),\n",
    "                ('nb',NB),\n",
    "                ('sgd',SGD),\n",
    "                ('tree',TREE),\n",
    "                ('LG',LG),\n",
    "                ('mlp',MLP)],\n",
    "                voting='hard'\n",
    ")\n",
    "voting_clf.fit(X_train,y_train)\n",
    "# for name,clf in voting_clf.named_estimators_.items():\n",
    "#     print(clf.score(X_test,y_test))"
   ]
  },
  {
   "cell_type": "code",
   "execution_count": 51,
   "metadata": {},
   "outputs": [
    {
     "name": "stdout",
     "output_type": "stream",
     "text": [
      "0.7033333333333334\n",
      "0.7033333333333334\n",
      "              precision    recall  f1-score   support\n",
      "\n",
      "           0       0.83      0.60      0.70        48\n",
      "           1       1.00      0.87      0.93        23\n",
      "           2       0.70      0.72      0.71        36\n",
      "           3       0.56      0.76      0.64        25\n",
      "           4       0.67      0.62      0.64        26\n",
      "           5       0.73      1.00      0.84        24\n",
      "           6       0.90      0.71      0.79        38\n",
      "           7       0.74      0.85      0.79        20\n",
      "           8       0.52      0.54      0.53        28\n",
      "           9       0.51      0.56      0.54        32\n",
      "\n",
      "    accuracy                           0.70       300\n",
      "   macro avg       0.72      0.72      0.71       300\n",
      "weighted avg       0.72      0.70      0.70       300\n",
      "\n"
     ]
    }
   ],
   "source": [
    "pred = voting_clf.predict(X_test)\n",
    "print(accuracy_score(pred,y_test))\n",
    "# SVM.fit(X_train, y_train)\n",
    "# KNN.fit(X_train, y_train)\n",
    "# print(SVM.score(X_test, y_test))\n",
    "# print(KNN.score(X_test, y_test))\n",
    "print(accuracy_score(pred,y_test))\n",
    "print(classification_report(pred, y_test))"
   ]
  },
  {
   "cell_type": "code",
   "execution_count": 52,
   "metadata": {},
   "outputs": [
    {
     "name": "stdout",
     "output_type": "stream",
     "text": [
      "0.7433333333333333\n",
      "              precision    recall  f1-score   support\n",
      "\n",
      "           0       0.77      0.84      0.81        32\n",
      "           1       1.00      0.95      0.98        21\n",
      "           2       0.78      0.74      0.76        39\n",
      "           3       0.74      0.68      0.70        37\n",
      "           4       0.75      0.58      0.65        31\n",
      "           5       0.85      0.97      0.90        29\n",
      "           6       0.93      0.80      0.86        35\n",
      "           7       0.70      0.80      0.74        20\n",
      "           8       0.45      0.54      0.49        24\n",
      "           9       0.54      0.59      0.57        32\n",
      "\n",
      "    accuracy                           0.74       300\n",
      "   macro avg       0.75      0.75      0.75       300\n",
      "weighted avg       0.75      0.74      0.75       300\n",
      "\n"
     ]
    }
   ],
   "source": [
    "from sklearn.metrics import classification_report\n",
    "SVM.fit(X_train, y_train)\n",
    "pred_svm = SVM.predict(X_test)\n",
    "print(accuracy_score(pred_svm,y_test))\n",
    "print(classification_report(pred_svm, y_test))"
   ]
  },
  {
   "cell_type": "code",
   "execution_count": 53,
   "metadata": {},
   "outputs": [
    {
     "name": "stdout",
     "output_type": "stream",
     "text": [
      "0.6566666666666666\n",
      "0.6566666666666666\n",
      "              precision    recall  f1-score   support\n",
      "\n",
      "           0       0.71      0.81      0.76        31\n",
      "           1       0.85      0.89      0.87        19\n",
      "           2       0.68      0.60      0.63        42\n",
      "           3       0.47      0.53      0.50        30\n",
      "           4       0.71      0.53      0.61        32\n",
      "           5       0.67      0.76      0.71        29\n",
      "           6       0.87      0.84      0.85        31\n",
      "           7       0.74      0.74      0.74        23\n",
      "           8       0.48      0.54      0.51        26\n",
      "           9       0.51      0.49      0.50        37\n",
      "\n",
      "    accuracy                           0.66       300\n",
      "   macro avg       0.67      0.67      0.67       300\n",
      "weighted avg       0.66      0.66      0.66       300\n",
      "\n"
     ]
    }
   ],
   "source": [
    "KNN.fit(X_train, y_train)\n",
    "pred_knn = KNN.predict(X_test)\n",
    "print(accuracy_score(pred_knn,y_test))\n",
    "print(accuracy_score(pred_knn,y_test))\n",
    "print(classification_report(pred_knn, y_test))"
   ]
  },
  {
   "cell_type": "code",
   "execution_count": 54,
   "metadata": {},
   "outputs": [
    {
     "data": {
      "text/plain": [
       "array([9, 7, 2, 6, 4, 6, 6, 5, 8, 1, 4, 0, 6, 9, 3, 6, 2, 5, 7, 3, 3, 1,\n",
       "       3, 5, 2, 2, 1, 9, 4, 9, 3, 1, 6, 8, 3, 1, 6, 5, 0, 0, 3, 0, 2, 9,\n",
       "       3, 2, 9, 6, 7, 8, 5, 4, 2, 5, 0, 0, 6, 8, 2, 8, 2, 0, 5, 2, 6, 9,\n",
       "       6, 8, 2, 2, 1, 4, 5, 7, 9, 2, 6, 0, 2, 3, 3, 9, 4, 0, 3, 5, 5, 2,\n",
       "       0, 4, 4, 4, 5, 7, 7, 4, 7, 2, 9, 8, 7, 3, 9, 2, 6, 6, 9, 9, 1, 9,\n",
       "       5, 8, 8, 6, 0, 4, 1, 9, 5, 2, 8, 4, 4, 2, 7, 7, 9, 7, 4, 3, 0, 3,\n",
       "       2, 9, 5, 0, 1, 3, 0, 0, 0, 5, 7, 2, 8, 8, 8, 0, 6, 4, 6, 1, 9, 4,\n",
       "       9, 4, 9, 6, 0, 3, 5, 7, 6, 6, 4, 0, 2, 6, 9, 2, 3, 8, 1, 2, 4, 6,\n",
       "       2, 2, 4, 6, 4, 4, 0, 5, 4, 1, 3, 4, 2, 7, 5, 9, 6, 5, 2, 4, 7, 2,\n",
       "       6, 0, 0, 5, 6, 5, 8, 5, 1, 9, 4, 8, 9, 1, 9, 8, 6, 9, 6, 9, 2, 7,\n",
       "       3, 7, 3, 0, 8, 2, 5, 9, 9, 5, 3, 9, 8, 5, 0, 0, 9, 8, 1, 3, 0, 2,\n",
       "       1, 7, 9, 5, 3, 0, 0, 2, 2, 9, 7, 2, 3, 3, 1, 6, 9, 2, 7, 4, 0, 2,\n",
       "       9, 8, 7, 9, 6, 9, 4, 1, 2, 2, 5, 2, 1, 6, 0, 3, 8, 7, 3, 2, 8, 3,\n",
       "       3, 4, 2, 8, 3, 7, 5, 4, 4, 4, 8, 8, 0, 5], dtype=int8)"
      ]
     },
     "execution_count": 54,
     "metadata": {},
     "output_type": "execute_result"
    }
   ],
   "source": [
    "pred_knn"
   ]
  },
  {
   "cell_type": "code",
   "execution_count": 55,
   "metadata": {},
   "outputs": [
    {
     "data": {
      "text/plain": [
       "array([5, 7, 7, 6, 4, 6, 6, 5, 8, 1, 8, 0, 6, 9, 9, 8, 2, 8, 7, 3, 5, 1,\n",
       "       3, 5, 2, 2, 1, 9, 9, 9, 3, 1, 6, 4, 3, 1, 6, 5, 9, 0, 3, 0, 3, 9,\n",
       "       2, 2, 9, 6, 4, 8, 5, 8, 2, 5, 0, 0, 6, 0, 2, 8, 2, 0, 5, 2, 6, 6,\n",
       "       6, 8, 0, 5, 1, 4, 5, 7, 2, 2, 6, 0, 5, 3, 6, 0, 2, 0, 3, 5, 9, 7,\n",
       "       7, 3, 3, 4, 5, 2, 7, 4, 7, 0, 0, 8, 7, 3, 9, 2, 6, 6, 5, 9, 1, 9,\n",
       "       5, 8, 9, 8, 0, 4, 1, 9, 5, 2, 8, 4, 7, 2, 2, 5, 5, 4, 8, 8, 5, 8,\n",
       "       2, 9, 5, 0, 1, 2, 0, 0, 0, 2, 7, 2, 8, 9, 8, 2, 8, 3, 6, 1, 9, 4,\n",
       "       9, 4, 3, 6, 0, 8, 5, 7, 6, 6, 8, 6, 2, 6, 3, 3, 3, 4, 1, 9, 4, 3,\n",
       "       2, 2, 8, 6, 4, 6, 3, 5, 8, 1, 3, 3, 9, 7, 9, 8, 6, 1, 2, 4, 3, 2,\n",
       "       6, 0, 0, 5, 6, 5, 8, 5, 1, 9, 4, 8, 0, 1, 9, 8, 6, 3, 6, 2, 9, 7,\n",
       "       3, 7, 9, 0, 8, 0, 5, 3, 9, 5, 3, 9, 4, 5, 0, 0, 2, 9, 1, 3, 0, 2,\n",
       "       5, 7, 3, 1, 4, 0, 0, 2, 0, 9, 7, 8, 3, 3, 5, 9, 9, 0, 7, 4, 0, 2,\n",
       "       3, 8, 7, 3, 6, 3, 4, 1, 9, 2, 5, 0, 1, 6, 0, 7, 5, 7, 2, 2, 2, 7,\n",
       "       3, 4, 2, 9, 9, 7, 5, 4, 3, 4, 9, 4, 0, 1], dtype=int8)"
      ]
     },
     "execution_count": 55,
     "metadata": {},
     "output_type": "execute_result"
    }
   ],
   "source": [
    "y_test"
   ]
  }
 ],
 "metadata": {
  "kernelspec": {
   "display_name": "base",
   "language": "python",
   "name": "python3"
  },
  "language_info": {
   "codemirror_mode": {
    "name": "ipython",
    "version": 3
   },
   "file_extension": ".py",
   "mimetype": "text/x-python",
   "name": "python",
   "nbconvert_exporter": "python",
   "pygments_lexer": "ipython3",
   "version": "3.11.7"
  }
 },
 "nbformat": 4,
 "nbformat_minor": 2
}
