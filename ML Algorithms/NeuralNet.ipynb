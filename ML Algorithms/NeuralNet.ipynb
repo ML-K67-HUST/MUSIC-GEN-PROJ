{
 "cells": [
  {
   "cell_type": "code",
   "execution_count": 3,
   "id": "8d441a03-2097-4f7a-9321-df50df85fdcd",
   "metadata": {},
   "outputs": [
    {
     "ename": "ModuleNotFoundError",
     "evalue": "No module named 'xgboost'",
     "output_type": "error",
     "traceback": [
      "\u001b[0;31m---------------------------------------------------------------------------\u001b[0m",
      "\u001b[0;31mModuleNotFoundError\u001b[0m                       Traceback (most recent call last)",
      "Cell \u001b[0;32mIn[3], line 9\u001b[0m\n\u001b[1;32m      7\u001b[0m \u001b[38;5;28;01mimport\u001b[39;00m \u001b[38;5;21;01mlibrosa\u001b[39;00m\n\u001b[1;32m      8\u001b[0m \u001b[38;5;28;01mimport\u001b[39;00m \u001b[38;5;21;01mlibrosa\u001b[39;00m\u001b[38;5;21;01m.\u001b[39;00m\u001b[38;5;21;01mdisplay\u001b[39;00m\n\u001b[0;32m----> 9\u001b[0m \u001b[38;5;28;01mimport\u001b[39;00m \u001b[38;5;21;01mxgboost\u001b[39;00m \u001b[38;5;28;01mas\u001b[39;00m \u001b[38;5;21;01mxgb\u001b[39;00m\n\u001b[1;32m     10\u001b[0m \u001b[38;5;28;01mimport\u001b[39;00m \u001b[38;5;21;01mos\u001b[39;00m\n\u001b[1;32m     12\u001b[0m \u001b[38;5;66;03m# Function to extract features from audio files\u001b[39;00m\n",
      "\u001b[0;31mModuleNotFoundError\u001b[0m: No module named 'xgboost'"
     ]
    }
   ],
   "source": [
    "import numpy as np\n",
    "import pandas as pd\n",
    "import matplotlib.pyplot as plt\n",
    "import seaborn as sns\n",
    "from sklearn.model_selection import train_test_split\n",
    "from sklearn.metrics import accuracy_score, classification_report\n",
    "import librosa\n",
    "import librosa.display\n",
    "import xgboost as xgb\n",
    "import os\n",
    "\n",
    "# Function to extract features from audio files\n",
    "def extract_features(file_path, num_mfcc=13, n_fft=2048, hop_length=512):\n",
    "    try:\n",
    "        audio, sample_rate = librosa.load(file_path, res_type='kaiser_fast')\n",
    "        mfccs = librosa.feature.mfcc(y=audio, sr=sample_rate, n_mfcc=num_mfcc, n_fft=n_fft, hop_length=hop_length)\n",
    "        mfccs_mean = np.mean(mfccs.T, axis=0)\n",
    "    except Exception as e:\n",
    "        print(\"Error encountered while parsing file: \", file_path)\n",
    "        return None\n",
    "    \n",
    "    return mfccs_mean\n",
    "\n",
    "# Load GTZAN dataset\n",
    "data_dir = 'gtzan_genre'\n",
    "genres = os.listdir(data_dir)\n",
    "num_mfcc = 13\n",
    "\n",
    "features = []\n",
    "labels = []\n",
    "\n",
    "for genre in genres:\n",
    "    genre_dir = os.path.join(data_dir, genre)\n",
    "    for file in os.listdir(genre_dir):\n",
    "        file_path = os.path.join(genre_dir, file)\n",
    "        feature = extract_features(file_path, num_mfcc=num_mfcc)\n",
    "        if feature is not None:\n",
    "            features.append(feature)\n",
    "            labels.append(genre)\n",
    "\n",
    "# Convert features and labels to numpy arrays\n",
    "features = np.array(features)\n",
    "labels = np.array(labels)\n",
    "\n",
    "# Split the data into training and testing sets\n",
    "X_train, X_test, y_train, y_test = train_test_split(features, labels, test_size=0.2, random_state=42)\n",
    "\n",
    "# Train XGBoost model\n",
    "model = xgb.XGBClassifier()\n",
    "model.fit(X_train, y_train)\n",
    "\n",
    "# Evaluate model\n",
    "y_pred = model.predict(X_test)\n",
    "accuracy = accuracy_score(y_test, y_pred)\n",
    "print(\"Accuracy:\", accuracy)\n",
    "print(\"Classification Report:\")\n",
    "print(classification_report(y_test, y_pred))\n",
    "\n",
    "# Optional: Predict new audio file\n",
    "# Provide the path to the WAV file you want to predict\n",
    "# new_audio_file = 'path_to_your_wav_file.wav'\n",
    "# new_feature = extract_features(new_audio_file, num_mfcc=num_mfcc)\n",
    "# if new_feature is not None:\n",
    "#     prediction = model.predict(np.array([new_feature]))\n",
    "#     print(\"Predicted genre:\", prediction[0])\n",
    "# else:\n",
    "#     print(\"Failed to extract features from the audio file.\")\n"
   ]
  },
  {
   "cell_type": "code",
   "execution_count": null,
   "id": "f87b91e3-f08a-42b4-a00b-e6bf0e8be27d",
   "metadata": {},
   "outputs": [],
   "source": [
    "print('loading data')\n",
    "\n",
    "all_data = pickle.load(open('dataset_standardized_all"
   ]
  }
 ],
 "metadata": {
  "kernelspec": {
   "display_name": "Python 3 (ipykernel)",
   "language": "python",
   "name": "python3"
  },
  "language_info": {
   "codemirror_mode": {
    "name": "ipython",
    "version": 3
   },
   "file_extension": ".py",
   "mimetype": "text/x-python",
   "name": "python",
   "nbconvert_exporter": "python",
   "pygments_lexer": "ipython3",
   "version": "3.11.7"
  }
 },
 "nbformat": 4,
 "nbformat_minor": 5
}
